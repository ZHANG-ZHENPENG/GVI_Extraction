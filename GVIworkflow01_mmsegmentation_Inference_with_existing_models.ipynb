{
  "cells": [
    {
      "cell_type": "markdown",
      "metadata": {
        "id": "view-in-github",
        "colab_type": "text"
      },
      "source": [
        "<a href=\"https://colab.research.google.com/github/ZHANG-ZHENPENG/GVI_Extraction/blob/main/GVIworkflow01_mmsegmentation_Inference_with_existing_models.ipynb\" target=\"_parent\"><img src=\"https://colab.research.google.com/assets/colab-badge.svg\" alt=\"Open In Colab\"/></a>"
      ]
    },
    {
      "cell_type": "code",
      "execution_count": null,
      "metadata": {
        "id": "awlBANOrByZh"
      },
      "outputs": [],
      "source": [
        "from google.colab import drive\n",
        "drive.mount('/content/drive')"
      ]
    },
    {
      "cell_type": "code",
      "source": [
        "1 Installation and setup"
      ],
      "metadata": {
        "id": "zfkHdmANL5C0"
      },
      "execution_count": null,
      "outputs": []
    },
    {
      "cell_type": "code",
      "execution_count": null,
      "metadata": {
        "id": "_mOprb5wUv1F"
      },
      "outputs": [],
      "source": [
        "# Step 1. Install MMCV\n",
        "# Install PyTorch\n",
        "!pip install torch==2.1.0 torchvision==0.16.0 torchaudio==2.1.0 --index-url https://download.pytorch.org/whl/cu121\n",
        "# Install mim\n",
        "!pip install -U openmim\n",
        "# Install mmengine\n",
        "!mim install mmengine\n",
        "# Install MMCV\n",
        "# !mim install 'mmcv >= 2.0.0'\n",
        "!pip install /content/drive/MyDrive/Package/mmcv-2.1.0-cp310-cp310-manylinux1_x86_64.whl"
      ]
    },
    {
      "cell_type": "code",
      "execution_count": null,
      "metadata": {
        "id": "I6qdTibwAqSL"
      },
      "outputs": [],
      "source": [
        "#Step 2. Install MMSegmentation from the source.\n",
        "!pip install -q Cython torch\n",
        "!pip install ftfy\n",
        "!rm -rf mmsegmentation\n",
        "!git clone -b main https://github.com/open-mmlab/mmsegmentation.git\n",
        "%cd mmsegmentation\n",
        "!pip install -e ."
      ]
    },
    {
      "cell_type": "code",
      "execution_count": null,
      "metadata": {
        "colab": {
          "base_uri": "https://localhost:8080/"
        },
        "id": "iLDvaxwfA3-d",
        "outputId": "5d6ae645-bd72-4aca-8bc9-28212ffd6020"
      },
      "outputs": [
        {
          "output_type": "stream",
          "name": "stdout",
          "text": [
            "2.1.0\n",
            "Package directory: /usr/local/lib/python3.10/dist-packages/mmcv/__init__.py\n",
            "1.2.2\n",
            "Package directory: /content/mmsegmentation/mmseg/__init__.py\n",
            "2.1.0+cu121 True\n"
          ]
        }
      ],
      "source": [
        "#Step 3. Verification.\n",
        "import mmcv\n",
        "print(mmcv.__version__)\n",
        "# Find the directory of a package\n",
        "package_directory01 = mmcv.__file__\n",
        "print(\"Package directory:\", package_directory01)\n",
        "import mmseg\n",
        "print(mmseg.__version__)\n",
        "package_directory02 = mmseg.__file__\n",
        "print(\"Package directory:\", package_directory02)\n",
        "# Check Pytorch installation\n",
        "import torch, torchvision\n",
        "print(torch.__version__, torch.cuda.is_available())"
      ]
    },
    {
      "cell_type": "code",
      "execution_count": null,
      "metadata": {
        "id": "JWxjxKWHBoPF"
      },
      "outputs": [],
      "source": [
        "import tensorflow as tf\n",
        "import numpy as np\n",
        "import matplotlib\n",
        "import matplotlib.pyplot as plt\n",
        "import os\n",
        "from google.colab import files\n",
        "#Check your TF version\n",
        "print(tf.__version__)"
      ]
    },
    {
      "cell_type": "code",
      "execution_count": null,
      "metadata": {
        "id": "9ySBDuAmBBqw"
      },
      "outputs": [],
      "source": [
        "# Build model\n",
        "from mmseg.apis import MMSegInferencer\n",
        "# Load models into memory\n",
        "inferencer = MMSegInferencer(model='deeplabv3plus_r50-d8_4xb2-80k_cityscapes-512x1024')"
      ]
    },
    {
      "cell_type": "code",
      "source": [
        "2 Predicting"
      ],
      "metadata": {
        "id": "_2yW_jYDNBSm"
      },
      "execution_count": null,
      "outputs": []
    },
    {
      "cell_type": "code",
      "execution_count": null,
      "metadata": {
        "id": "PLDFn51kA-aM"
      },
      "outputs": [],
      "source": [
        "import time\n",
        "\n",
        "imagespath00 = '/content/drive/MyDrive/ExpandedTracts/Ward6/Tract106/group01'\n",
        "imagespath01 = '/content/drive/MyDrive/ExpandedTracts/Ward6/Tract106/group02'\n",
        "imagespath02 = '/content/drive/MyDrive/ExpandedTracts/Ward6/Tract106/group03'\n",
        "imagespath03 = '/content/drive/MyDrive/ExpandedTracts/Ward6/Tract106/group04'\n",
        "imagespath04 = '/content/drive/MyDrive/ExpandedTracts/Ward6/Tract106/group05'\n",
        "\n",
        "# Save visualized rendering color maps and predicted results\n",
        "\n",
        "inferencer(imagespath00, out_dir=imagespath00,opacity=1)\n",
        "inferencer(imagespath01, out_dir=imagespath01,opacity=1)\n",
        "inferencer(imagespath02, out_dir=imagespath02,opacity=1)\n",
        "inferencer(imagespath03, out_dir=imagespath03,opacity=1)\n",
        "inferencer(imagespath04, out_dir=imagespath04,opacity=1)\n",
        "\n",
        "print(\"Done\")"
      ]
    }
  ],
  "metadata": {
    "accelerator": "GPU",
    "colab": {
      "machine_shape": "hm",
      "provenance": [],
      "gpuType": "V100",
      "mount_file_id": "1HXOk8dZT7UKKs2GvRczg9jM_aP3-E7Mw",
      "authorship_tag": "ABX9TyO+bfIRX2GNBFgUWV2a+4Jp",
      "include_colab_link": true
    },
    "kernelspec": {
      "display_name": "Python 3",
      "name": "python3"
    },
    "language_info": {
      "name": "python"
    }
  },
  "nbformat": 4,
  "nbformat_minor": 0
}