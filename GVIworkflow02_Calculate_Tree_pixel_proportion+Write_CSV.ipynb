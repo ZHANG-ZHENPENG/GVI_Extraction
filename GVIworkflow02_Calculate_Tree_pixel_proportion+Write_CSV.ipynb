{
  "nbformat": 4,
  "nbformat_minor": 0,
  "metadata": {
    "colab": {
      "provenance": [],
      "machine_shape": "hm",
      "authorship_tag": "ABX9TyNPdUGJdAa133D+65/O7bIy",
      "include_colab_link": true
    },
    "kernelspec": {
      "name": "python3",
      "display_name": "Python 3"
    },
    "language_info": {
      "name": "python"
    }
  },
  "cells": [
    {
      "cell_type": "markdown",
      "metadata": {
        "id": "view-in-github",
        "colab_type": "text"
      },
      "source": [
        "<a href=\"https://colab.research.google.com/github/ZHANG-ZHENPENG/GVI_Extraction/blob/main/GVIworkflow02_Calculate_Tree_pixel_proportion%2BWrite_CSV.ipynb\" target=\"_parent\"><img src=\"https://colab.research.google.com/assets/colab-badge.svg\" alt=\"Open In Colab\"/></a>"
      ]
    },
    {
      "cell_type": "code",
      "execution_count": null,
      "metadata": {
        "id": "bGK5dqqK1qaA"
      },
      "outputs": [],
      "source": [
        "import os\n",
        "import cv2\n",
        "import numpy as np\n",
        "from google.colab.patches import cv2_imshow\n",
        "from matplotlib import pyplot as plt\n",
        "import matplotlib.image as mpimg\n",
        "from PIL import Image\n",
        "import glob"
      ]
    },
    {
      "cell_type": "code",
      "source": [
        "from google.colab import drive\n",
        "drive.mount('/content/drive')"
      ],
      "metadata": {
        "id": "eNgO7nVS4TtC"
      },
      "execution_count": null,
      "outputs": []
    },
    {
      "cell_type": "markdown",
      "source": [
        "1 Calculate tree pixel + Write CSV"
      ],
      "metadata": {
        "id": "IxY8UZoSPbyQ"
      }
    },
    {
      "cell_type": "code",
      "source": [
        "# Fix bugs in multi-tract: Find and delete images without tree pixels\n",
        "wardpath = '/content/drive/MyDrive/ExpandedTracts/Ward_X/'\n",
        "all_items = os.listdir(wardpath)\n",
        "subtract = [item for item in all_items if os.path.isdir(os.path.join(wardpath, item))]\n",
        "print(subtract)\n",
        "suffix = '*.png'\n",
        "## rgb 107 , 142, 35 # the tree color in RGB\n",
        "## b,g,r = 35, 142, 107 # cv2 uses BGR\n",
        "class_color = [35, 142, 107]\n",
        "\n",
        "for tract in subtract:\n",
        "  savepath = wardpath+tract\n",
        "  print(\"Find bugs in:\",savepath)\n",
        "  all_files = os.listdir(savepath)\n",
        "  subdirectories = [item for item in all_files if os.path.isdir(os.path.join(savepath, item))]\n",
        "  num_subdirectories = len(subdirectories)\n",
        "  print(\"Number of subdirectories:\", num_subdirectories)\n",
        "\n",
        "  for i in range(0, num_subdirectories):\n",
        "    grouppath = savepath+'/group0{}/vis/'.format(i+1)\n",
        "    savename = tract+'group0{}GVI.csv'.format(i+1)\n",
        "    print(\"Find bugs in:\",grouppath)\n",
        "    pathname=grouppath+suffix\n",
        "\n",
        "    ImageName = []\n",
        "    TreePixels = []\n",
        "    for file in glob.glob(pathname):\n",
        "      eachimage = cv2.imread(file)\n",
        "      filteredImage = eachimage.copy()\n",
        "      low = np.array(class_color);\n",
        "      # Create a mask for images\n",
        "      mask = cv2.inRange(filteredImage, low, low)\n",
        "      filteredImage[mask == 0] = [0, 0, 0]\n",
        "      filteredImage[mask != 0] = [255,255,255]\n",
        "      # Calculate tree pixels for each image and save them into list.\n",
        "      bwImage = cv2.cvtColor(filteredImage, cv2.COLOR_BGR2GRAY)\n",
        "      if type(cv2.findNonZero(bwImage)) == type(None):\n",
        "        os.remove(file)\n",
        "        print(\"[File without Tree Pixels] deleted:\",file)\n",
        "    else:\n",
        "      print(\"No bugs founded\")"
      ],
      "metadata": {
        "id": "H1NP1xQoWG5R"
      },
      "execution_count": null,
      "outputs": []
    },
    {
      "cell_type": "code",
      "source": [
        "# GVI calculate and write csv\n",
        "class_color = [35, 142, 107]\n",
        "wardpath = '/content/drive/MyDrive/ExpandedTracts/Ward_X/'\n",
        "\n",
        "all_items = os.listdir(wardpath)\n",
        "subtract = [item for item in all_items if os.path.isdir(os.path.join(wardpath, item))]\n",
        "print(subtract)\n",
        "suffix = '*.png'\n",
        "\n",
        "for tract in subtract:\n",
        "  savepath = wardpath+tract\n",
        "  # Get a list of all items in the directory\n",
        "  all_items = os.listdir(savepath)\n",
        "  # Filter out only directories\n",
        "  subdirectories = [item for item in all_items if os.path.isdir(os.path.join(savepath, item))]\n",
        "  # Count the number of subdirectories\n",
        "  num_subdirectories = len(subdirectories)\n",
        "  print(\"Number of subdirectories:\", num_subdirectories)\n",
        "\n",
        "  for i in range(0, num_subdirectories):\n",
        "    grouppath = savepath+'/group0{}/vis/'.format(i+1)\n",
        "    savename = tract+'group0{}GVI.csv'.format(i+1)\n",
        "    print(\"Input:\",grouppath)\n",
        "    print(\"Output:\",savename)\n",
        "    print(\"Savepath:\",savepath)\n",
        "    pathname=grouppath+suffix\n",
        "\n",
        "    ImageName = []\n",
        "    images = []\n",
        "    for file in glob.glob(pathname):\n",
        "      eachimage = cv2.imread(file)\n",
        "      images.append(eachimage)\n",
        "\n",
        "    # Get a list of TreePixels\n",
        "    TreePixels = []\n",
        "    for eachimage in images:\n",
        "      #plt.imshow(eachimage)\n",
        "      #plt.axis(\"off\")\n",
        "      #plt.show()\n",
        "      filteredImage = eachimage.copy()\n",
        "      low = np.array(class_color);\n",
        "\n",
        "      # Create a mask for images\n",
        "      mask = cv2.inRange(filteredImage, low, low)\n",
        "      filteredImage[mask == 0] = [0, 0, 0]\n",
        "      filteredImage[mask != 0] = [255,255,255]\n",
        "      #plt.imshow(filteredImage)\n",
        "      #plt.axis(\"off\")\n",
        "      #plt.show()\n",
        "\n",
        "      # Calculate tree pixels for each image and save them into list.\n",
        "      bwImage = cv2.cvtColor(filteredImage, cv2.COLOR_BGR2GRAY)\n",
        "      #plt.imshow(bwImage)\n",
        "      #plt.axis(\"off\")\n",
        "      #plt.show()\n",
        "      #cv2_imshow(\"BW\", bwImage)\n",
        "      numberPixels = len(cv2.findNonZero(bwImage))\n",
        "      # print(numberPixels)\n",
        "      TreePixels.append(numberPixels)\n",
        "      cv2.waitKey(0)\n",
        "\n",
        "    print(\"TreePixelList:\",TreePixels)\n",
        "\n",
        "    # Get a list of TotalPixels\n",
        "    TotalPixels = []\n",
        "    for file in glob.glob(pathname):\n",
        "      img = Image.open(file)\n",
        "      width, height = img.size\n",
        "      Total_pixels = width * height\n",
        "      TotalPixels.append(Total_pixels)\n",
        "\n",
        "    print(\"TotalPixelsList:\",TotalPixels)\n",
        "\n",
        "    # Get Calculate GreenViewIndex and get a list of GreenViewIndex\n",
        "    GreenViewIndex=[]\n",
        "    print(len(TreePixels))\n",
        "\n",
        "    for i in range(0, len(TreePixels)):\n",
        "      GVI = (TreePixels[i]/TotalPixels[i])*100\n",
        "      GreenViewIndex.append(GVI)\n",
        "    print(\"GVIList:\",GreenViewIndex)\n",
        "\n",
        "    # Get all the name of images\n",
        "    from os import listdir\n",
        "    from os.path import isfile, join\n",
        "\n",
        "    FileName = [f for f in listdir(grouppath) if isfile(join(grouppath, f))]\n",
        "    print(\"NameList:\",FileName)\n",
        "    Location = []\n",
        "    for i in range(0, len(FileName)):\n",
        "      Location.append(tract)\n",
        "    print(\"LocationList:\",Location)\n",
        "    # Save GVI csv file to a specific directory\n",
        "    os.chdir(savepath)\n",
        "\n",
        "    import csv\n",
        "    # write a csv file with 2 colmuns\n",
        "    data_list = []\n",
        "\n",
        "    for filename,GVI,location in zip(FileName,GreenViewIndex,Location):\n",
        "      x={}\n",
        "      x[\"ImageName\"]=filename\n",
        "      x[\"GreenViewIndex\"]=GVI\n",
        "      x[\"Location\"]=location\n",
        "      data_list.append(x)\n",
        "    # Print to check\n",
        "    print(data_list)\n",
        "\n",
        "    # Write csv\n",
        "    with open(savename,'w',newline='',encoding='UTF-8') as f_c_csv:\n",
        "        writer = csv.writer(f_c_csv)\n",
        "        writer.writerow(['ImageName', 'GreenViewIndex','Location'])\n",
        "        for nl in data_list:\n",
        "            writer.writerow(nl.values())\n",
        "    print(\"Done\")"
      ],
      "metadata": {
        "id": "scM6V1fvQ60_"
      },
      "execution_count": null,
      "outputs": []
    },
    {
      "cell_type": "code",
      "source": [
        "# Combining Multiple CSV Files in tract groups\n",
        "savepath = '/content/drive/MyDrive/ExpandedTracts/Ward6/'\n",
        "\n",
        "all_items = os.listdir(savepath)\n",
        "subtract = [item for item in all_items if os.path.isdir(os.path.join(savepath, item))]\n",
        "\n",
        "for tract in subtract:\n",
        "  walkpath = savepath +tract\n",
        "  combined_csv = savepath + tract+'GVI.csv'\n",
        "  print(combined_csv)\n",
        "  print(walkpath)\n",
        "\n",
        "  # list all csv files only\n",
        "  os.chdir(walkpath)\n",
        "  csv_files = glob.glob('*.{}'.format('csv'))\n",
        "  print(csv_files)\n",
        "\n",
        "  import pandas as pd\n",
        "  list = []\n",
        "\n",
        "  for f in csv_files:\n",
        "      list.append(pd.read_csv(f))\n",
        "  # Transform panda dataframe to csv, and store it in google drive\n",
        "  df_res = pd.concat(list, ignore_index=True)\n",
        "  df_res.to_csv(combined_csv,index=False)\n",
        "\n",
        "  print(\"Combined csv was saved:\",combined_csv)"
      ],
      "metadata": {
        "id": "1uoarpp-Y1Sj"
      },
      "execution_count": null,
      "outputs": []
    },
    {
      "cell_type": "code",
      "source": [
        "# Combining Multiple tracts CSV Files together\n",
        "savepath = '/content/drive/MyDrive/ExpandedTracts/'\n",
        "Ward = 'Ward6'\n",
        "walkpath = savepath +Ward\n",
        "combined_csv = savepath + Ward+'GVI.csv'\n",
        "print(combined_csv)\n",
        "print(walkpath)\n",
        "\n",
        "# list all csv files only\n",
        "os.chdir(walkpath)\n",
        "csv_files = glob.glob('*.{}'.format('csv'))\n",
        "print(csv_files)\n",
        "\n",
        "import pandas as pd\n",
        "list = []\n",
        "\n",
        "for f in csv_files:\n",
        "    list.append(pd.read_csv(f))\n",
        "df_res = pd.concat(list, ignore_index=True)\n",
        "df_res.to_csv(combined_csv,index=False)\n",
        "\n",
        "print(\"Combined csv was saved:\",combined_csv)"
      ],
      "metadata": {
        "id": "_mKEjxSlTkhW"
      },
      "execution_count": null,
      "outputs": []
    },
    {
      "cell_type": "markdown",
      "source": [
        "2 Random verification"
      ],
      "metadata": {
        "id": "zy770C5u4HGY"
      }
    },
    {
      "cell_type": "code",
      "source": [
        "os.chdir('/content/drive/MyDrive/Untitled folder/GroundTruthTest/')\n",
        "image_inferred = 'Inferred.png'\n",
        "image_truth = 'GroundTruthTest.png'\n",
        "\n",
        "image01 = cv2.imread(image_inferred,1)\n",
        "image02 = cv2.imread(image_truth,1)\n",
        "\n",
        "# Check if each position value is equal\n",
        "comparison = image01 == image02\n",
        "\n",
        "# Count the number of True and False values\n",
        "num_true = np.count_nonzero(comparison)\n",
        "num_false = comparison.size - num_true\n",
        "\n",
        "print(\"Number of True positions:\", num_true)\n",
        "print(\"Number of False positions:\", num_false)\n",
        "\n",
        "print(num_true/(266001*3))\n",
        "884736"
      ],
      "metadata": {
        "id": "a1BNES9cGsGT"
      },
      "execution_count": null,
      "outputs": []
    }
  ]
}